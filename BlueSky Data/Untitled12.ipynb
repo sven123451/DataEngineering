{
 "cells": [
  {
   "cell_type": "code",
   "execution_count": 6,
   "id": "772dff57-338b-4fe4-af3d-1c945c0aeced",
   "metadata": {},
   "outputs": [
    {
     "name": "stdout",
     "output_type": "stream",
     "text": [
      "Requirement already satisfied: atproto in /opt/conda/lib/python3.12/site-packages (0.0.59)\n",
      "Requirement already satisfied: pandas in /opt/conda/lib/python3.12/site-packages (2.2.3)\n",
      "Requirement already satisfied: click<9,>=8.1.3 in /opt/conda/lib/python3.12/site-packages (from atproto) (8.1.8)\n",
      "Requirement already satisfied: cryptography<46,>=41.0.7 in /opt/conda/lib/python3.12/site-packages (from atproto) (44.0.1)\n",
      "Requirement already satisfied: dnspython<3,>=2.4.0 in /opt/conda/lib/python3.12/site-packages (from atproto) (2.7.0)\n",
      "Requirement already satisfied: httpx<0.29.0,>=0.25.0 in /opt/conda/lib/python3.12/site-packages (from atproto) (0.28.1)\n",
      "Requirement already satisfied: libipld<4,>=3.0.1 in /opt/conda/lib/python3.12/site-packages (from atproto) (3.0.1)\n",
      "Requirement already satisfied: pydantic<3,>=2.7 in /opt/conda/lib/python3.12/site-packages (from atproto) (2.10.6)\n",
      "Requirement already satisfied: typing-extensions<5,>=4.8.0 in /opt/conda/lib/python3.12/site-packages (from atproto) (4.12.2)\n",
      "Requirement already satisfied: websockets<14,>=12 in /opt/conda/lib/python3.12/site-packages (from atproto) (13.1)\n",
      "Requirement already satisfied: numpy>=1.26.0 in /opt/conda/lib/python3.12/site-packages (from pandas) (2.0.2)\n",
      "Requirement already satisfied: python-dateutil>=2.8.2 in /opt/conda/lib/python3.12/site-packages (from pandas) (2.9.0.post0)\n",
      "Requirement already satisfied: pytz>=2020.1 in /opt/conda/lib/python3.12/site-packages (from pandas) (2025.1)\n",
      "Requirement already satisfied: tzdata>=2022.7 in /opt/conda/lib/python3.12/site-packages (from pandas) (2025.1)\n",
      "Requirement already satisfied: cffi>=1.12 in /opt/conda/lib/python3.12/site-packages (from cryptography<46,>=41.0.7->atproto) (1.17.1)\n",
      "Requirement already satisfied: anyio in /opt/conda/lib/python3.12/site-packages (from httpx<0.29.0,>=0.25.0->atproto) (4.8.0)\n",
      "Requirement already satisfied: certifi in /opt/conda/lib/python3.12/site-packages (from httpx<0.29.0,>=0.25.0->atproto) (2024.12.14)\n",
      "Requirement already satisfied: httpcore==1.* in /opt/conda/lib/python3.12/site-packages (from httpx<0.29.0,>=0.25.0->atproto) (1.0.7)\n",
      "Requirement already satisfied: idna in /opt/conda/lib/python3.12/site-packages (from httpx<0.29.0,>=0.25.0->atproto) (3.10)\n",
      "Requirement already satisfied: h11<0.15,>=0.13 in /opt/conda/lib/python3.12/site-packages (from httpcore==1.*->httpx<0.29.0,>=0.25.0->atproto) (0.14.0)\n",
      "Requirement already satisfied: annotated-types>=0.6.0 in /opt/conda/lib/python3.12/site-packages (from pydantic<3,>=2.7->atproto) (0.7.0)\n",
      "Requirement already satisfied: pydantic-core==2.27.2 in /opt/conda/lib/python3.12/site-packages (from pydantic<3,>=2.7->atproto) (2.27.2)\n",
      "Requirement already satisfied: six>=1.5 in /opt/conda/lib/python3.12/site-packages (from python-dateutil>=2.8.2->pandas) (1.17.0)\n",
      "Requirement already satisfied: pycparser in /opt/conda/lib/python3.12/site-packages (from cffi>=1.12->cryptography<46,>=41.0.7->atproto) (2.22)\n",
      "Requirement already satisfied: sniffio>=1.1 in /opt/conda/lib/python3.12/site-packages (from anyio->httpx<0.29.0,>=0.25.0->atproto) (1.3.1)\n"
     ]
    }
   ],
   "source": [
    "!pip install atproto pandas\n",
    "\n"
   ]
  },
  {
   "cell_type": "code",
   "execution_count": 7,
   "id": "833a1edc-910b-4363-b0d5-881538a703ca",
   "metadata": {},
   "outputs": [
    {
     "name": "stdout",
     "output_type": "stream",
     "text": [
      "✅ Logged into Bluesky!\n",
      "✅ Bluesky User Profiles Saved!\n"
     ]
    }
   ],
   "source": [
    "\n",
    "from atproto import Client\n",
    "import pandas as pd\n",
    "import time\n",
    "\n",
    "# 🔹 Enter your Bluesky credentials\n",
    "USERNAME = \"feroziem.bsky.social\"  # Example: \"john.bsky.social\"\n",
    "APP_PASSWORD = \"zjvv-jevy-jjpz-jywh\"\n",
    "\n",
    "# Initialize Bluesky API Client\n",
    "client = Client()\n",
    "client.login(USERNAME, APP_PASSWORD)\n",
    "\n",
    "print(\"✅ Logged into Bluesky!\")\n",
    "\n",
    "# 🔹 Fortune 100 Companies (Modify as Needed)\n",
    "top_100_fortune_500 = [\n",
    "    \"Walmart\", \"Amazon\", \"Apple\", \"CVS Health\", \"UnitedHealth Group\",\n",
    "    \"Exxon Mobil\", \"Berkshire Hathaway\", \"Alphabet\", \"McKesson\", \"Chevron\",\n",
    "    \"AmerisourceBergen\", \"Costco Wholesale\", \"Microsoft\", \"Cardinal Health\", \"Cigna\",\n",
    "    \"Marathon Petroleum\", \"Phillips 66\", \"Valero Energy\", \"Ford Motor\", \"Home Depot\",\n",
    "    \"General Motors\", \"Elevance Health\", \"JPMorgan Chase\", \"Kroger\", \"Centene\",\n",
    "    \"Verizon Communications\", \"Walgreens Boots Alliance\", \"Target\", \"AT&T\", \"Bank of America\",\n",
    "    \"Meta Platforms\", \"Dell Technologies\", \"IBM\", \"TD Synnex\", \"Citigroup\",\n",
    "    \"Comcast\", \"PepsiCo\", \"Lowe's\", \"Procter & Gamble\", \"Intel\",\n",
    "    \"Johnson & Johnson\", \"Wells Fargo\", \"Pfizer\", \"Albertsons\", \"Walt Disney\",\n",
    "    \"Sysco\", \"Humana\", \"FedEx\", \"Raytheon Technologies\", \"HP\",\n",
    "    \"Boeing\", \"Archer Daniels Midland\", \"Caterpillar\", \"Lockheed Martin\", \"Morgan Stanley\",\n",
    "    \"Dow\", \"Tesla\", \"General Electric\", \"HCA Healthcare\", \"Goldman Sachs Group\",\n",
    "    \"Energy Transfer\", \"Tyson Foods\", \"Cisco Systems\", \"Charter Communications\", \"AbbVie\",\n",
    "    \"Progressive\", \"Allstate\", \"Best Buy\", \"Merck\", \"TJX\",\n",
    "    \"ConocoPhillips\", \"Nike\", \"Enterprise Products Partners\", \"General Dynamics\", \"American Express\",\n",
    "    \"Prudential Financial\", \"Coca-Cola\", \"Bristol-Myers Squibb\", \"Deere\", \"Thermo Fisher Scientific\",\n",
    "    \"Honeywell International\", \"Kraft Heinz\", \"Starbucks\", \"Qualcomm\", \"Abbott Laboratories\",\n",
    "    \"Micron Technology\", \"Jabil\", \"Broadcom\", \"Nucor\", \"Danaher\",\n",
    "    \"United Parcel Service\", \"Paramount Global\", \"US Bancorp\", \"Mondelez International\", \"Philip Morris International\",\n",
    "    \"Lennar\", \"Occidental Petroleum\", \"Southern Company\", \"NextEra Energy\", \"Plains GP Holdings\",\n",
    "    \"Dollar General\", \"Delta Air Lines\", \"American Airlines Group\", \"Marathon Oil\", \"Halliburton\",\n",
    "    \"Northrop Grumman\", \"Travelers\", \"3M\", \"Molina Healthcare\", \"D.R. Horton\"\n",
    "]\n",
    "\n",
    "# 🔹 Function to fetch user profiles\n",
    "def get_bluesky_profile(company):\n",
    "    try:\n",
    "        # Convert company name to potential Bluesky handle format\n",
    "        handle = company.lower().replace(\" \", \"\") + \".bsky.social\"\n",
    "        \n",
    "        # Fetch profile\n",
    "        profile = client.get_profile(handle)\n",
    "        \n",
    "        return [company, profile.handle, profile.display_name, profile.description]\n",
    "    \n",
    "    except Exception as e:\n",
    "        return [company, \"Not Found\", \"Not Found\", str(e)]  # If user does not exist\n",
    "\n",
    "# 🔹 Fetch profiles for all 100 companies\n",
    "bluesky_profiles = []\n",
    "\n",
    "for company in top_100_fortune_500:\n",
    "    bluesky_profiles.append(get_bluesky_profile(company))\n",
    "    time.sleep(2)  # Prevent API rate limits\n",
    "\n",
    "# 🔹 Save to CSV\n",
    "df_profiles = pd.DataFrame(bluesky_profiles, columns=[\"Company\", \"Bluesky Handle\", \"Display Name\", \"Bio\"])\n",
    "df_profiles.to_csv(\"bluesky_fortune100_profiles.csv\", index=False)\n",
    "\n",
    "print(\"✅ Bluesky User Profiles Saved!\")\n",
    "\n"
   ]
  },
  {
   "cell_type": "code",
   "execution_count": 8,
   "id": "2f45c3b7-7f99-4f9e-bacf-66248a9ffa42",
   "metadata": {},
   "outputs": [
    {
     "name": "stdout",
     "output_type": "stream",
     "text": [
      "✅ Logged into Bluesky!\n",
      "✅ Bluesky Posts Data Saved!\n"
     ]
    }
   ],
   "source": [
    "from atproto import Client\n",
    "import pandas as pd\n",
    "import time\n",
    "\n",
    "# 🔹 Enter your Bluesky credentials\n",
    "USERNAME = \"feroziem.bsky.social\"  # Example: \"john.bsky.social\"\n",
    "APP_PASSWORD = \"zjvv-jevy-jjpz-jywh\"\n",
    "\n",
    "# Initialize Bluesky API Client\n",
    "client = Client()\n",
    "client.login(USERNAME, APP_PASSWORD)\n",
    "\n",
    "print(\"✅ Logged into Bluesky!\")\n",
    "\n",
    "# Load the existing data from the previous CSV file\n",
    "df_profiles = pd.read_csv(\"bluesky_fortune100_profiles.csv\")\n",
    "\n",
    "# 🔹 Function to fetch recent posts from each company's Bluesky profile\n",
    "def get_company_posts(handle):\n",
    "    try:\n",
    "        # Get the last 5 posts from the company's Bluesky feed\n",
    "        posts = client.get_author_feed(handle)\n",
    "        \n",
    "        post_data = []\n",
    "        for post in posts.feed[:5]:  # Fetch 5 recent posts\n",
    "            post_text = post.post.record.text\n",
    "            timestamp = post.post.record.created_at\n",
    "            post_data.append([handle, post_text, timestamp])\n",
    "        \n",
    "        return post_data\n",
    "\n",
    "    except Exception as e:\n",
    "        return [[handle, \"No Posts Found\", str(e)]]  # Handle errors\n",
    "\n",
    "# 🔹 Collect posts for companies with valid Bluesky handles\n",
    "company_posts = []\n",
    "for index, row in df_profiles.iterrows():\n",
    "    handle = row[\"Bluesky Handle\"]\n",
    "    if handle != \"Not Found\":  # Skip if company profile wasn't found\n",
    "        company_posts.extend(get_company_posts(handle))\n",
    "        time.sleep(2)  # Prevent hitting rate limits\n",
    "\n",
    "# 🔹 Save to CSV\n",
    "df_posts = pd.DataFrame(company_posts, columns=[\"Bluesky Handle\", \"Post\", \"Timestamp\"])\n",
    "df_posts.to_csv(\"bluesky_fortune100_posts.csv\", index=False)\n",
    "\n",
    "print(\"✅ Bluesky Posts Data Saved!\")\n"
   ]
  },
  {
   "cell_type": "code",
   "execution_count": null,
   "id": "dc3535b7-9eae-4e69-976c-6794cc1c4997",
   "metadata": {},
   "outputs": [],
   "source": []
  }
 ],
 "metadata": {
  "kernelspec": {
   "display_name": "Python 3 (ipykernel)",
   "language": "python",
   "name": "python3"
  },
  "language_info": {
   "codemirror_mode": {
    "name": "ipython",
    "version": 3
   },
   "file_extension": ".py",
   "mimetype": "text/x-python",
   "name": "python",
   "nbconvert_exporter": "python",
   "pygments_lexer": "ipython3",
   "version": "3.12.8"
  }
 },
 "nbformat": 4,
 "nbformat_minor": 5
}
